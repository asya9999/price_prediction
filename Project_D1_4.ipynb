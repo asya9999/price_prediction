{
  "nbformat": 4,
  "nbformat_minor": 0,
  "metadata": {
    "colab": {
      "name": "Project_D1.4.ipynb",
      "provenance": [],
      "collapsed_sections": []
    },
    "kernelspec": {
      "name": "python3",
      "display_name": "Python 3"
    }
  },
  "cells": [
    {
      "cell_type": "code",
      "metadata": {
        "colab": {
          "base_uri": "https://localhost:8080/"
        },
        "id": "CO3Tpt9z0V4N",
        "outputId": "ef7e825c-093a-4cc2-9be7-7e09af08d48f"
      },
      "source": [
        "from google.colab import drive\n",
        "\n",
        "drive.mount('/content/drive')"
      ],
      "execution_count": null,
      "outputs": [
        {
          "output_type": "stream",
          "text": [
            "Drive already mounted at /content/drive; to attempt to forcibly remount, call drive.mount(\"/content/drive\", force_remount=True).\n"
          ],
          "name": "stdout"
        }
      ]
    },
    {
      "cell_type": "code",
      "metadata": {
        "id": "Y55PZIWd4Uxo",
        "colab": {
          "base_uri": "https://localhost:8080/"
        },
        "outputId": "225c5f9b-cbb3-4ce2-b9b8-09687ec67420"
      },
      "source": [
        "cd '/content/drive/MyDrive/Price_prediction_project'"
      ],
      "execution_count": null,
      "outputs": [
        {
          "output_type": "stream",
          "text": [
            "/content/drive/MyDrive/Price_prediction_project\n"
          ],
          "name": "stdout"
        }
      ]
    },
    {
      "cell_type": "code",
      "metadata": {
        "id": "_4UkgadN13eE"
      },
      "source": [
        "import pandas as pd "
      ],
      "execution_count": null,
      "outputs": []
    },
    {
      "cell_type": "code",
      "metadata": {
        "id": "GqZk8y8z4AyP",
        "colab": {
          "base_uri": "https://localhost:8080/"
        },
        "outputId": "b796f793-e59c-4c61-c281-cad5e95534a7"
      },
      "source": [
        "test = pd.read_csv(\"./test.tsv\",sep='\\t')\n",
        "test.head()\n",
        "test.info()"
      ],
      "execution_count": null,
      "outputs": [
        {
          "output_type": "stream",
          "text": [
            "<class 'pandas.core.frame.DataFrame'>\n",
            "RangeIndex: 693359 entries, 0 to 693358\n",
            "Data columns (total 7 columns):\n",
            " #   Column             Non-Null Count   Dtype \n",
            "---  ------             --------------   ----- \n",
            " 0   test_id            693359 non-null  int64 \n",
            " 1   name               693359 non-null  object\n",
            " 2   item_condition_id  693359 non-null  int64 \n",
            " 3   category_name      690301 non-null  object\n",
            " 4   brand_name         397834 non-null  object\n",
            " 5   shipping           693359 non-null  int64 \n",
            " 6   item_description   693359 non-null  object\n",
            "dtypes: int64(3), object(4)\n",
            "memory usage: 37.0+ MB\n"
          ],
          "name": "stdout"
        }
      ]
    },
    {
      "cell_type": "code",
      "metadata": {
        "colab": {
          "base_uri": "https://localhost:8080/",
          "height": 340
        },
        "id": "H-2dYwW_gU8U",
        "outputId": "3209ab71-2794-4676-882a-755d15b76837"
      },
      "source": [
        "test.head()"
      ],
      "execution_count": null,
      "outputs": [
        {
          "output_type": "execute_result",
          "data": {
            "text/html": [
              "<div>\n",
              "<style scoped>\n",
              "    .dataframe tbody tr th:only-of-type {\n",
              "        vertical-align: middle;\n",
              "    }\n",
              "\n",
              "    .dataframe tbody tr th {\n",
              "        vertical-align: top;\n",
              "    }\n",
              "\n",
              "    .dataframe thead th {\n",
              "        text-align: right;\n",
              "    }\n",
              "</style>\n",
              "<table border=\"1\" class=\"dataframe\">\n",
              "  <thead>\n",
              "    <tr style=\"text-align: right;\">\n",
              "      <th></th>\n",
              "      <th>test_id</th>\n",
              "      <th>name</th>\n",
              "      <th>item_condition_id</th>\n",
              "      <th>category_name</th>\n",
              "      <th>brand_name</th>\n",
              "      <th>shipping</th>\n",
              "      <th>item_description</th>\n",
              "    </tr>\n",
              "  </thead>\n",
              "  <tbody>\n",
              "    <tr>\n",
              "      <th>0</th>\n",
              "      <td>0</td>\n",
              "      <td>Breast cancer \"I fight like a girl\" ring</td>\n",
              "      <td>1</td>\n",
              "      <td>Women/Jewelry/Rings</td>\n",
              "      <td>NaN</td>\n",
              "      <td>1</td>\n",
              "      <td>Size 7</td>\n",
              "    </tr>\n",
              "    <tr>\n",
              "      <th>1</th>\n",
              "      <td>1</td>\n",
              "      <td>25 pcs NEW 7.5\"x12\" Kraft Bubble Mailers</td>\n",
              "      <td>1</td>\n",
              "      <td>Other/Office supplies/Shipping Supplies</td>\n",
              "      <td>NaN</td>\n",
              "      <td>1</td>\n",
              "      <td>25 pcs NEW 7.5\"x12\" Kraft Bubble Mailers Lined...</td>\n",
              "    </tr>\n",
              "    <tr>\n",
              "      <th>2</th>\n",
              "      <td>2</td>\n",
              "      <td>Coach bag</td>\n",
              "      <td>1</td>\n",
              "      <td>Vintage &amp; Collectibles/Bags and Purses/Handbag</td>\n",
              "      <td>Coach</td>\n",
              "      <td>1</td>\n",
              "      <td>Brand new coach bag. Bought for [rm] at a Coac...</td>\n",
              "    </tr>\n",
              "    <tr>\n",
              "      <th>3</th>\n",
              "      <td>3</td>\n",
              "      <td>Floral Kimono</td>\n",
              "      <td>2</td>\n",
              "      <td>Women/Sweaters/Cardigan</td>\n",
              "      <td>NaN</td>\n",
              "      <td>0</td>\n",
              "      <td>-floral kimono -never worn -lightweight and pe...</td>\n",
              "    </tr>\n",
              "    <tr>\n",
              "      <th>4</th>\n",
              "      <td>4</td>\n",
              "      <td>Life after Death</td>\n",
              "      <td>3</td>\n",
              "      <td>Other/Books/Religion &amp; Spirituality</td>\n",
              "      <td>NaN</td>\n",
              "      <td>1</td>\n",
              "      <td>Rediscovering life after the loss of a loved o...</td>\n",
              "    </tr>\n",
              "  </tbody>\n",
              "</table>\n",
              "</div>"
            ],
            "text/plain": [
              "   test_id  ...                                   item_description\n",
              "0        0  ...                                             Size 7\n",
              "1        1  ...  25 pcs NEW 7.5\"x12\" Kraft Bubble Mailers Lined...\n",
              "2        2  ...  Brand new coach bag. Bought for [rm] at a Coac...\n",
              "3        3  ...  -floral kimono -never worn -lightweight and pe...\n",
              "4        4  ...  Rediscovering life after the loss of a loved o...\n",
              "\n",
              "[5 rows x 7 columns]"
            ]
          },
          "metadata": {
            "tags": []
          },
          "execution_count": 5
        }
      ]
    },
    {
      "cell_type": "code",
      "metadata": {
        "id": "pTrDKmTq4F-r",
        "colab": {
          "base_uri": "https://localhost:8080/"
        },
        "outputId": "e70d5703-9278-422a-f3e0-0fddfdc414a0"
      },
      "source": [
        "train = pd.read_csv(\"./train.tsv\",sep='\\t')\n",
        "train.head()\n",
        "train.info()"
      ],
      "execution_count": null,
      "outputs": [
        {
          "output_type": "stream",
          "text": [
            "<class 'pandas.core.frame.DataFrame'>\n",
            "RangeIndex: 1482535 entries, 0 to 1482534\n",
            "Data columns (total 8 columns):\n",
            " #   Column             Non-Null Count    Dtype  \n",
            "---  ------             --------------    -----  \n",
            " 0   train_id           1482535 non-null  int64  \n",
            " 1   name               1482535 non-null  object \n",
            " 2   item_condition_id  1482535 non-null  int64  \n",
            " 3   category_name      1476208 non-null  object \n",
            " 4   brand_name         849853 non-null   object \n",
            " 5   price              1482535 non-null  float64\n",
            " 6   shipping           1482535 non-null  int64  \n",
            " 7   item_description   1482531 non-null  object \n",
            "dtypes: float64(1), int64(3), object(4)\n",
            "memory usage: 90.5+ MB\n"
          ],
          "name": "stdout"
        }
      ]
    },
    {
      "cell_type": "code",
      "metadata": {
        "id": "msa6O6rK4kk8",
        "colab": {
          "base_uri": "https://localhost:8080/",
          "height": 297
        },
        "outputId": "f9270e6b-108e-4ba0-9a5f-4a3ff7b8581b"
      },
      "source": [
        "train.describe()"
      ],
      "execution_count": null,
      "outputs": [
        {
          "output_type": "execute_result",
          "data": {
            "text/html": [
              "<div>\n",
              "<style scoped>\n",
              "    .dataframe tbody tr th:only-of-type {\n",
              "        vertical-align: middle;\n",
              "    }\n",
              "\n",
              "    .dataframe tbody tr th {\n",
              "        vertical-align: top;\n",
              "    }\n",
              "\n",
              "    .dataframe thead th {\n",
              "        text-align: right;\n",
              "    }\n",
              "</style>\n",
              "<table border=\"1\" class=\"dataframe\">\n",
              "  <thead>\n",
              "    <tr style=\"text-align: right;\">\n",
              "      <th></th>\n",
              "      <th>train_id</th>\n",
              "      <th>item_condition_id</th>\n",
              "      <th>price</th>\n",
              "      <th>shipping</th>\n",
              "    </tr>\n",
              "  </thead>\n",
              "  <tbody>\n",
              "    <tr>\n",
              "      <th>count</th>\n",
              "      <td>1.482535e+06</td>\n",
              "      <td>1.482535e+06</td>\n",
              "      <td>1.482535e+06</td>\n",
              "      <td>1.482535e+06</td>\n",
              "    </tr>\n",
              "    <tr>\n",
              "      <th>mean</th>\n",
              "      <td>7.412670e+05</td>\n",
              "      <td>1.907380e+00</td>\n",
              "      <td>2.673752e+01</td>\n",
              "      <td>4.472744e-01</td>\n",
              "    </tr>\n",
              "    <tr>\n",
              "      <th>std</th>\n",
              "      <td>4.279711e+05</td>\n",
              "      <td>9.031586e-01</td>\n",
              "      <td>3.858607e+01</td>\n",
              "      <td>4.972124e-01</td>\n",
              "    </tr>\n",
              "    <tr>\n",
              "      <th>min</th>\n",
              "      <td>0.000000e+00</td>\n",
              "      <td>1.000000e+00</td>\n",
              "      <td>0.000000e+00</td>\n",
              "      <td>0.000000e+00</td>\n",
              "    </tr>\n",
              "    <tr>\n",
              "      <th>25%</th>\n",
              "      <td>3.706335e+05</td>\n",
              "      <td>1.000000e+00</td>\n",
              "      <td>1.000000e+01</td>\n",
              "      <td>0.000000e+00</td>\n",
              "    </tr>\n",
              "    <tr>\n",
              "      <th>50%</th>\n",
              "      <td>7.412670e+05</td>\n",
              "      <td>2.000000e+00</td>\n",
              "      <td>1.700000e+01</td>\n",
              "      <td>0.000000e+00</td>\n",
              "    </tr>\n",
              "    <tr>\n",
              "      <th>75%</th>\n",
              "      <td>1.111900e+06</td>\n",
              "      <td>3.000000e+00</td>\n",
              "      <td>2.900000e+01</td>\n",
              "      <td>1.000000e+00</td>\n",
              "    </tr>\n",
              "    <tr>\n",
              "      <th>max</th>\n",
              "      <td>1.482534e+06</td>\n",
              "      <td>5.000000e+00</td>\n",
              "      <td>2.009000e+03</td>\n",
              "      <td>1.000000e+00</td>\n",
              "    </tr>\n",
              "  </tbody>\n",
              "</table>\n",
              "</div>"
            ],
            "text/plain": [
              "           train_id  item_condition_id         price      shipping\n",
              "count  1.482535e+06       1.482535e+06  1.482535e+06  1.482535e+06\n",
              "mean   7.412670e+05       1.907380e+00  2.673752e+01  4.472744e-01\n",
              "std    4.279711e+05       9.031586e-01  3.858607e+01  4.972124e-01\n",
              "min    0.000000e+00       1.000000e+00  0.000000e+00  0.000000e+00\n",
              "25%    3.706335e+05       1.000000e+00  1.000000e+01  0.000000e+00\n",
              "50%    7.412670e+05       2.000000e+00  1.700000e+01  0.000000e+00\n",
              "75%    1.111900e+06       3.000000e+00  2.900000e+01  1.000000e+00\n",
              "max    1.482534e+06       5.000000e+00  2.009000e+03  1.000000e+00"
            ]
          },
          "metadata": {
            "tags": []
          },
          "execution_count": 7
        }
      ]
    },
    {
      "cell_type": "code",
      "metadata": {
        "id": "Rsj8akWHg37w"
      },
      "source": [
        "#test.describe()\n",
        "#test.isna().sum()/693359"
      ],
      "execution_count": null,
      "outputs": []
    },
    {
      "cell_type": "code",
      "metadata": {
        "colab": {
          "base_uri": "https://localhost:8080/"
        },
        "id": "UP879r3DH86C",
        "outputId": "4fd2b652-a96b-4ebf-9a77-04122bac1673"
      },
      "source": [
        "train.isna().sum()"
      ],
      "execution_count": null,
      "outputs": [
        {
          "output_type": "execute_result",
          "data": {
            "text/plain": [
              "train_id                  0\n",
              "name                      0\n",
              "item_condition_id         0\n",
              "category_name          6327\n",
              "brand_name           632682\n",
              "price                     0\n",
              "shipping                  0\n",
              "item_description          4\n",
              "dtype: int64"
            ]
          },
          "metadata": {
            "tags": []
          },
          "execution_count": 9
        }
      ]
    },
    {
      "cell_type": "code",
      "metadata": {
        "colab": {
          "base_uri": "https://localhost:8080/"
        },
        "id": "YZWhqXYhgw7K",
        "outputId": "3a143bc7-d473-46b6-aaeb-74aabbc266e3"
      },
      "source": [
        "train.isna().sum()/1482535"
      ],
      "execution_count": null,
      "outputs": [
        {
          "output_type": "execute_result",
          "data": {
            "text/plain": [
              "train_id             0.000000\n",
              "name                 0.000000\n",
              "item_condition_id    0.000000\n",
              "category_name        0.004268\n",
              "brand_name           0.426757\n",
              "price                0.000000\n",
              "shipping             0.000000\n",
              "item_description     0.000003\n",
              "dtype: float64"
            ]
          },
          "metadata": {
            "tags": []
          },
          "execution_count": 10
        }
      ]
    },
    {
      "cell_type": "code",
      "metadata": {
        "colab": {
          "base_uri": "https://localhost:8080/",
          "height": 350
        },
        "id": "rwRUa_HvjspL",
        "outputId": "2883e6df-b9ca-407d-a58e-e6b089afbd99"
      },
      "source": [
        "import seaborn as sns\r\n",
        "import numpy as np\r\n",
        "\r\n",
        "sns.distplot(np.log1p(train['price']), kde=False)"
      ],
      "execution_count": null,
      "outputs": [
        {
          "output_type": "stream",
          "text": [
            "/usr/local/lib/python3.6/dist-packages/seaborn/distributions.py:2557: FutureWarning: `distplot` is a deprecated function and will be removed in a future version. Please adapt your code to use either `displot` (a figure-level function with similar flexibility) or `histplot` (an axes-level function for histograms).\n",
            "  warnings.warn(msg, FutureWarning)\n"
          ],
          "name": "stderr"
        },
        {
          "output_type": "execute_result",
          "data": {
            "text/plain": [
              "<matplotlib.axes._subplots.AxesSubplot at 0x7fc454a5af28>"
            ]
          },
          "metadata": {
            "tags": []
          },
          "execution_count": 11
        },
        {
          "output_type": "display_data",
          "data": {
            "image/png": "[encoded data removed]",
            "text/plain": [
              "<Figure size 432x288 with 1 Axes>"
            ]
          },
          "metadata": {
            "tags": [],
            "needs_background": "light"
          }
        }
      ]
    },
    {
      "cell_type": "code",
      "metadata": {
        "colab": {
          "base_uri": "https://localhost:8080/",
          "height": 350
        },
        "id": "ZTjFmP99kIck",
        "outputId": "cd393a04-c7f8-4c6f-955d-61de8325251d"
      },
      "source": [
        "sns.distplot(train['shipping'], kde=False)"
      ],
      "execution_count": null,
      "outputs": [
        {
          "output_type": "stream",
          "text": [
            "/usr/local/lib/python3.6/dist-packages/seaborn/distributions.py:2557: FutureWarning: `distplot` is a deprecated function and will be removed in a future version. Please adapt your code to use either `displot` (a figure-level function with similar flexibility) or `histplot` (an axes-level function for histograms).\n",
            "  warnings.warn(msg, FutureWarning)\n"
          ],
          "name": "stderr"
        },
        {
          "output_type": "execute_result",
          "data": {
            "text/plain": [
              "<matplotlib.axes._subplots.AxesSubplot at 0x7fc454949d68>"
            ]
          },
          "metadata": {
            "tags": []
          },
          "execution_count": 12
        },
        {
          "output_type": "display_data",
          "data": {
            "image/png": "[encoded data removed]",
            "text/plain": [
              "<Figure size 432x288 with 1 Axes>"
            ]
          },
          "metadata": {
            "tags": [],
            "needs_background": "light"
          }
        }
      ]
    },
    {
      "cell_type": "code",
      "metadata": {
        "colab": {
          "base_uri": "https://localhost:8080/",
          "height": 351
        },
        "id": "XEM9_dIvrXf_",
        "outputId": "3c40197d-e78c-40ec-cec0-9ae1048a3842"
      },
      "source": [
        "sns.distplot(train['item_condition_id'], kde=False)"
      ],
      "execution_count": null,
      "outputs": [
        {
          "output_type": "stream",
          "text": [
            "/usr/local/lib/python3.6/dist-packages/seaborn/distributions.py:2557: FutureWarning: `distplot` is a deprecated function and will be removed in a future version. Please adapt your code to use either `displot` (a figure-level function with similar flexibility) or `histplot` (an axes-level function for histograms).\n",
            "  warnings.warn(msg, FutureWarning)\n"
          ],
          "name": "stderr"
        },
        {
          "output_type": "execute_result",
          "data": {
            "text/plain": [
              "<matplotlib.axes._subplots.AxesSubplot at 0x7fc454397cc0>"
            ]
          },
          "metadata": {
            "tags": []
          },
          "execution_count": 13
        },
        {
          "output_type": "display_data",
          "data": {
            "image/png": "[encoded data removed]",
            "text/plain": [
              "<Figure size 432x288 with 1 Axes>"
            ]
          },
          "metadata": {
            "tags": [],
            "needs_background": "light"
          }
        }
      ]
    },
    {
      "cell_type": "markdown",
      "metadata": {
        "id": "YRXohOkFgEQv"
      },
      "source": [
        "Preparing categories"
      ]
    },
    {
      "cell_type": "code",
      "metadata": {
        "id": "PPP_8g6RixfF"
      },
      "source": [
        "train_copy = train.copy()"
      ],
      "execution_count": null,
      "outputs": []
    },
    {
      "cell_type": "code",
      "metadata": {
        "colab": {
          "base_uri": "https://localhost:8080/"
        },
        "id": "JI_8YF4UkdzB",
        "outputId": "c92109e4-2a07-410b-b08e-f600add5bf02"
      },
      "source": [
        "#Checking for NULL values in the columns\n",
        "train_copy.isnull().any()"
      ],
      "execution_count": null,
      "outputs": [
        {
          "output_type": "execute_result",
          "data": {
            "text/plain": [
              "train_id             False\n",
              "name                 False\n",
              "item_condition_id    False\n",
              "category_name         True\n",
              "brand_name            True\n",
              "price                False\n",
              "shipping             False\n",
              "item_description      True\n",
              "dtype: bool"
            ]
          },
          "metadata": {
            "tags": []
          },
          "execution_count": 15
        }
      ]
    },
    {
      "cell_type": "code",
      "metadata": {
        "id": "6Y4jfXxet0db"
      },
      "source": [
        "to_remove = train_copy['item_description'][0]"
      ],
      "execution_count": null,
      "outputs": []
    },
    {
      "cell_type": "code",
      "metadata": {
        "id": "3xeR3vzo_hfz"
      },
      "source": [
        "pad_symbol = \"<PAD>\""
      ],
      "execution_count": null,
      "outputs": []
    },
    {
      "cell_type": "code",
      "metadata": {
        "colab": {
          "base_uri": "https://localhost:8080/",
          "height": 352
        },
        "id": "nEBOCbU-fdRc",
        "outputId": "8991bd09-7cf6-4d46-d3da-c4e03415d769"
      },
      "source": [
        "train_copy = train.copy()\n",
        "\n",
        "unknown_symbol = \"<UNKNOWN>\"\n",
        "\n",
        "def split_category_name(text):\n",
        "  if isinstance(text, str):\n",
        "    return text.split(\"/\")\n",
        "  else:\n",
        "    return [unknown_symbol]\n",
        "\n",
        "def process_brand(text):\n",
        "  if isinstance(text, str):\n",
        "    return text\n",
        "  else:\n",
        "    return unknown_symbol\n",
        "\n",
        "def process_descr(text, t):\n",
        "  if isinstance(text, str) and text!=t:\n",
        "    return text\n",
        "  else:\n",
        "    return unknown_symbol    \n",
        "\n",
        "train_copy['category_name'] = train_copy['category_name'].apply(lambda x: split_category_name(x))\n",
        "train_copy['brand_name'] = train_copy['brand_name'].apply(lambda x: process_brand(x))\n",
        "no_descr = \"No description yet \"\n",
        "train_copy['item_description'] = train_copy['item_description'].apply(lambda x: process_descr(x, to_remove))\n",
        "\n",
        "\n",
        "train_copy.head()"
      ],
      "execution_count": null,
      "outputs": [
        {
          "output_type": "execute_result",
          "data": {
            "text/html": [
              "<div>\n",
              "<style scoped>\n",
              "    .dataframe tbody tr th:only-of-type {\n",
              "        vertical-align: middle;\n",
              "    }\n",
              "\n",
              "    .dataframe tbody tr th {\n",
              "        vertical-align: top;\n",
              "    }\n",
              "\n",
              "    .dataframe thead th {\n",
              "        text-align: right;\n",
              "    }\n",
              "</style>\n",
              "<table border=\"1\" class=\"dataframe\">\n",
              "  <thead>\n",
              "    <tr style=\"text-align: right;\">\n",
              "      <th></th>\n",
              "      <th>train_id</th>\n",
              "      <th>name</th>\n",
              "      <th>item_condition_id</th>\n",
              "      <th>category_name</th>\n",
              "      <th>brand_name</th>\n",
              "      <th>price</th>\n",
              "      <th>shipping</th>\n",
              "      <th>item_description</th>\n",
              "    </tr>\n",
              "  </thead>\n",
              "  <tbody>\n",
              "    <tr>\n",
              "      <th>0</th>\n",
              "      <td>0</td>\n",
              "      <td>MLB Cincinnati Reds T Shirt Size XL</td>\n",
              "      <td>3</td>\n",
              "      <td>[Men, Tops, T-shirts]</td>\n",
              "      <td>&lt;UNKNOWN&gt;</td>\n",
              "      <td>10.0</td>\n",
              "      <td>1</td>\n",
              "      <td>&lt;UNKNOWN&gt;</td>\n",
              "    </tr>\n",
              "    <tr>\n",
              "      <th>1</th>\n",
              "      <td>1</td>\n",
              "      <td>Razer BlackWidow Chroma Keyboard</td>\n",
              "      <td>3</td>\n",
              "      <td>[Electronics, Computers &amp; Tablets, Components ...</td>\n",
              "      <td>Razer</td>\n",
              "      <td>52.0</td>\n",
              "      <td>0</td>\n",
              "      <td>This keyboard is in great condition and works ...</td>\n",
              "    </tr>\n",
              "    <tr>\n",
              "      <th>2</th>\n",
              "      <td>2</td>\n",
              "      <td>AVA-VIV Blouse</td>\n",
              "      <td>1</td>\n",
              "      <td>[Women, Tops &amp; Blouses, Blouse]</td>\n",
              "      <td>Target</td>\n",
              "      <td>10.0</td>\n",
              "      <td>1</td>\n",
              "      <td>Adorable top with a hint of lace and a key hol...</td>\n",
              "    </tr>\n",
              "    <tr>\n",
              "      <th>3</th>\n",
              "      <td>3</td>\n",
              "      <td>Leather Horse Statues</td>\n",
              "      <td>1</td>\n",
              "      <td>[Home, Home Décor, Home Décor Accents]</td>\n",
              "      <td>&lt;UNKNOWN&gt;</td>\n",
              "      <td>35.0</td>\n",
              "      <td>1</td>\n",
              "      <td>New with tags. Leather horses. Retail for [rm]...</td>\n",
              "    </tr>\n",
              "    <tr>\n",
              "      <th>4</th>\n",
              "      <td>4</td>\n",
              "      <td>24K GOLD plated rose</td>\n",
              "      <td>1</td>\n",
              "      <td>[Women, Jewelry, Necklaces]</td>\n",
              "      <td>&lt;UNKNOWN&gt;</td>\n",
              "      <td>44.0</td>\n",
              "      <td>0</td>\n",
              "      <td>Complete with certificate of authenticity</td>\n",
              "    </tr>\n",
              "  </tbody>\n",
              "</table>\n",
              "</div>"
            ],
            "text/plain": [
              "   train_id  ...                                   item_description\n",
              "0         0  ...                                          <UNKNOWN>\n",
              "1         1  ...  This keyboard is in great condition and works ...\n",
              "2         2  ...  Adorable top with a hint of lace and a key hol...\n",
              "3         3  ...  New with tags. Leather horses. Retail for [rm]...\n",
              "4         4  ...          Complete with certificate of authenticity\n",
              "\n",
              "[5 rows x 8 columns]"
            ]
          },
          "metadata": {
            "tags": []
          },
          "execution_count": 58
        }
      ]
    },
    {
      "cell_type": "code",
      "metadata": {
        "id": "Mg0m59MX0JQi"
      },
      "source": [
        "import tensorflow as tf\r\n",
        "from tensorflow.keras.preprocessing.text import Tokenizer\r\n",
        "from tensorflow.keras.preprocessing.sequence import pad_sequences"
      ],
      "execution_count": null,
      "outputs": []
    },
    {
      "cell_type": "code",
      "metadata": {
        "id": "y6sfVTUUk_TB"
      },
      "source": [
        "def tokenize(sentences):\n",
        "\n",
        "  tokenizer = Tokenizer(oov_token='UNK')\n",
        "  tokenizer.fit_on_texts(sentences)\n",
        "\n",
        "  word_index = tokenizer.word_index\n",
        "  vocab_size=len(word_index)\n",
        "\n",
        "  sequences = tokenizer.texts_to_sequences(sentences)\n",
        "  max_sequence_len = max([len(x) for x in sequences])\n",
        "  padded = pad_sequences(sequences, maxlen=max_sequence_len, padding='pre')\n",
        "\n",
        "  return padded, word_index\n"
      ],
      "execution_count": null,
      "outputs": []
    },
    {
      "cell_type": "code",
      "metadata": {
        "id": "a4lUo7x41dPf",
        "colab": {
          "base_uri": "https://localhost:8080/"
        },
        "outputId": "76694cc2-9c83-49c0-9fe5-7dbf1bca7169"
      },
      "source": [
        "padded_name, dic_name = tokenize(train_copy['name'])\r\n",
        "train_copy['name'] = padded_name"
      ],
      "execution_count": null,
      "outputs": [
        {
          "output_type": "stream",
          "text": [
            "17\n"
          ],
          "name": "stdout"
        }
      ]
    },
    {
      "cell_type": "code",
      "metadata": {
        "id": "4UnkKQLJ6LE7"
      },
      "source": [
        "padded_description, dic_description = tokenize(train_copy['item_description'])\r\n",
        "train_copy['item_description'] = padded_description"
      ],
      "execution_count": null,
      "outputs": []
    },
    {
      "cell_type": "code",
      "metadata": {
        "id": "LpHM8QTr9Dxl"
      },
      "source": [
        "train_copy['category_name']"
      ],
      "execution_count": null,
      "outputs": []
    },
    {
      "cell_type": "code",
      "metadata": {
        "id": "T5YS1zb77UsA"
      },
      "source": [
        "def categories_dict_indx(categories):\n",
        "\n",
        "  cat_set = set()\n",
        "  max_cat_len = max( [len(c) for c in categories] )\n",
        "\n",
        "  for cats in categories:\n",
        "    for cat in cats:\n",
        "      cat_set.add(cat)\n",
        "\n",
        "  cat_set.add(pad_symbol)\n",
        "  cat_dict = { c:i for (i, c) in enumerate(cat_set) }\n",
        "\n",
        "  cat_indexed = []\n",
        "\n",
        "  for cats in categories:\n",
        "    cat_array = []\n",
        "    for cat in cats:\n",
        "      cat_array.append(cat_dict[cat])\n",
        "    \n",
        "    while len(cat_array) < max_cat_len:\n",
        "      cat_array.append(cat_dict[pad_symbol])\n",
        "\n",
        "    cat_indexed.append(cat_array)\n",
        "    \n",
        "      \n",
        "\n",
        "  return cat_indexed, cat_dict\n",
        "\n",
        "categories_dict_indx(train_copy['category_name'])"
      ],
      "execution_count": null,
      "outputs": []
    },
    {
      "cell_type": "code",
      "metadata": {
        "id": "6kL7Kqom9Ath"
      },
      "source": [
        "def brand_dict_indx(brand):\n",
        "\n",
        "  brand_set = set()\n",
        " \n",
        "  for b in brand:\n",
        "      brand_set.add(b)\n",
        "\n",
        "  brand_dict = { c:i for (i, c) in enumerate(brand_set) }\n",
        "\n",
        "  brand_indexed = []\n",
        "\n",
        "  for b in brand:\n",
        "    brand_indexed.append(brand_dict[b])\n",
        "\n",
        "  return brand_indexed, brand_dict\n",
        "\n",
        "brand_dict_indx(train_copy['brand_name'])"
      ],
      "execution_count": null,
      "outputs": []
    },
    {
      "cell_type": "code",
      "metadata": {
        "id": "CL2StKERWrbs"
      },
      "source": [
        "#SGDRegressor\n",
        "\n",
        "model_lr_best_param = SGDRegressor(loss = \"squared_loss\",alpha = best_parameters_lr['alpha'],\\\n",
        "                                   fit_intercept=False)\n",
        "model_lr_best_param.fit(x_train_set,y_train)\n",
        "y_train_pred = model_lr_best_param.predict(x_train_set)\n",
        "y_test_pred = model_lr_best_param.predict(x_test_set)\n",
        "\n",
        "\n",
        "#Lasso\n",
        "\n",
        "from sklearn import linear_model\n",
        "clf = linear_model.Lasso(alpha=0.1)\n",
        "clf.fit([x_train_set, y_train)\n",
        "\n",
        "\n",
        "#SGDClassifier\n",
        "\n",
        "from sklearn.linear_model import SGDClassifier\n",
        "clf = SGDClassifier(loss=\"hinge\", penalty=\"l2\", max_iter=5)\n",
        "clf.fit(x_train_set, y_train)"
      ],
      "execution_count": null,
      "outputs": []
    },
    {
      "cell_type": "code",
      "metadata": {
        "id": "R2Kg71r_YXUr"
      },
      "source": [
        "#Stacking regressor \n",
        "\n",
        "from sklearn.datasets import load_diabetes\n",
        "from sklearn.linear_model import RidgeCV\n",
        "from sklearn.svm import LinearSVR\n",
        "from sklearn.ensemble import RandomForestRegressor\n",
        "from sklearn.ensemble import StackingRegressor\n",
        "\n",
        "estimators = [ ('lr', RidgeCV()),('svr', LinearSVR(random_state=42))]\n",
        "reg = StackingRegressor(\n",
        "     estimators=estimators,\n",
        "     final_estimator=RandomForestRegressor(n_estimators=10,\n",
        "                                           random_state=42)\n",
        "reg.fit(x_train_set, y_train)\n",
        "\n",
        "\n",
        "#Voting regressor \n",
        "import numpy as np\n",
        "from sklearn.linear_model import LinearRegression\n",
        "from sklearn.ensemble import RandomForestRegressor\n",
        "from sklearn.ensemble import VotingRegressor\n",
        "r1 = LinearRegression()\n",
        "r2 = RandomForestRegressor(n_estimators=10, random_state=1)\n",
        "er = VotingRegressor([('lr', r1), ('rf', r2)])\n",
        "er.fit(x_train_set, y_train)"
      ],
      "execution_count": null,
      "outputs": []
    },
    {
      "cell_type": "code",
      "metadata": {
        "id": "c5wuiQStY1KV"
      },
      "source": [
        "# GRU model\n",
        "def construct_GRU(train,var_list,drop_out_list):\n",
        "    input_name =  tf.keras.layers.Input(shape=(10,), name='name')\n",
        "    embedding_name = tf.keras.layers.Embedding(name_size, 20)(input_name)\n",
        "    gru_name = tf.keras.layers.GRU(8)(embedding_name)\n",
        "    \n",
        "    input_desc =  tf.keras.layers.Input(shape=(max_length,), name='desc')\n",
        "    embedding_desc = tf.keras.layers.Embedding(desc_size, 60)(input_desc)\n",
        "    gru_desc = tf.keras.layers.GRU(16)(embedding_desc)\n",
        "\n",
        "    input_brand =  tf.keras.layers.Input(shape=(1,), name='brand')\n",
        "    embedding_brand = tf.keras.layers.Embedding(var_list[0] + 1, 10)(input_brand)\n",
        "    flatten1 = tf.keras.layers.Flatten()(embedding_brand)\n",
        "\n",
        "    input_cat = tf.keras.layers.Input(shape=(1,), name='main_cat')\n",
        "    Embed_cat = tf.keras.layers.Embedding(var_list[1] + 1, \\\n",
        "                                          10,input_length=1)(input_cat)\n",
        "    flatten2 = tf.keras.layers.Flatten()(Embed_cat)\n",
        "\n",
        "    input_subcat1 = tf.keras.layers.Input(shape=(1,), name='subcat1')\n",
        "    Embed_subcat1 = tf.keras.layers.Embedding(var_list[2] + 1, \\\n",
        "                                              10,input_length=1)(input_subcat1)\n",
        "    flatten3 = tf.keras.layers.Flatten()(Embed_subcat1)\n",
        "\n",
        "    concat_layer = tf.keras.layers.concatenate(inputs=[gru_name,gru_desc,flatten1,flatten2,flatten3],name=\"concatenate\")\n",
        "    #dense layers\n",
        "    Dense_layer1 = tf.keras.layers.Dense(units=512,activation='relu',kernel_initializer='he_normal',\\\n",
        "                                         name=\"Dense_l\")(concat_layer)\n",
        "    dropout_1 = tf.keras.layers.Dropout(drop_out_list[0],name='dropout_1')(Dense_layer1)\n",
        "    batch_n1 = tf.keras.layers.BatchNormalization()(dropout_1)\n",
        "    \n",
        "    Dense_layer2 = tf.keras.layers.Dense(units=128,activation='relu',kernel_initializer='he_normal',\\\n",
        "                                         name=\"Dense_2\")(batch_n1)\n",
        "    dropout_2 = tf.keras.layers.Dropout(drop_out_list[1],name='dropout_2')(Dense_layer2)\n",
        "\n",
        "    final_output = tf.keras.layers.Dense(units=1,activation='linear',name='output_layer')(dropout_2)\n",
        "\n",
        "    model = tf.keras.Model(inputs=[input_name,input_desc,input_brand,input_cat,input_subcat1,input_subcat2,\\\n",
        "                                   input_shipping,input_item,desc_len_input,name_len_input],\n",
        "                           outputs=[final_output])\n",
        "    return model"
      ],
      "execution_count": null,
      "outputs": []
    }
  ]
}